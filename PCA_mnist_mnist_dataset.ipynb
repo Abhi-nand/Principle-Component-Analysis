{
  "cells": [
    {
      "cell_type": "markdown",
      "metadata": {
        "id": "view-in-github",
        "colab_type": "text"
      },
      "source": [
        "<a href=\"https://colab.research.google.com/github/Abhi-nand/Principle-Component-Analysis/blob/main/PCA_mnist_mnist_dataset.ipynb\" target=\"_parent\"><img src=\"https://colab.research.google.com/assets/colab-badge.svg\" alt=\"Open In Colab\"/></a>"
      ]
    },
    {
      "cell_type": "markdown",
      "metadata": {
        "id": "I3DzbeU33QxN"
      },
      "source": [
        "## Dataset\n",
        "\n",
        "We will be working with a subset of the [MNIST dataset](https://en.wikipedia.org/wiki/MNIST_database). Run the cell given below to generate the data-matrix $\\mathbf{X}$, which is of shape $(n, d)$, where $n$ denotes the number of samples and $d$ denotes the number of features. "
      ]
    },
    {
      "cell_type": "code",
      "execution_count": null,
      "metadata": {
        "id": "BosUAYguUbDc"
      },
      "outputs": [],
      "source": [
        "import numpy as np\n",
        "import tensorflow"
      ]
    },
    {
      "cell_type": "code",
      "execution_count": 1,
      "metadata": {
        "id": "uOBXmnyg3ZFH",
        "colab": {
          "base_uri": "https://localhost:8080/"
        },
        "outputId": "f596f9f0-c122-4037-e052-93dc689b2264"
      },
      "outputs": [
        {
          "output_type": "stream",
          "name": "stdout",
          "text": [
            "Downloading data from https://storage.googleapis.com/tensorflow/tf-keras-datasets/mnist.npz\n",
            "11490434/11490434 [==============================] - 0s 0us/step\n"
          ]
        }
      ],
      "source": [
        "##### DATASET GENERATION #####\n",
        "import numpy as np\n",
        "from keras.datasets import mnist\n",
        "(X_train, y_train), (X_test, y_test) = mnist.load_data()\n",
        "X = X_train[y_train == 2][: 100].reshape(-1, 28 * 28)\n",
        "test_image = X_test[y_test == 2][0].reshape(28 * 28)\n",
        "##### DO NOT EDIT THIS CELL #####"
      ]
    },
    {
      "cell_type": "markdown",
      "metadata": {
        "id": "5RyvzK8z4o47"
      },
      "source": [
        "## Task-1\n",
        "\n",
        "How many samples does the dataset have?"
      ]
    },
    {
      "cell_type": "code",
      "execution_count": null,
      "metadata": {
        "colab": {
          "base_uri": "https://localhost:8080/"
        },
        "id": "xoANr-S94vHn",
        "outputId": "4d572898-4104-4e35-94f3-96e63a6b1919"
      },
      "outputs": [
        {
          "name": "stdout",
          "output_type": "stream",
          "text": [
            "100\n"
          ]
        }
      ],
      "source": [
        "# Solution\n",
        "print(X.shape[0])"
      ]
    },
    {
      "cell_type": "markdown",
      "metadata": {
        "id": "UrmLi2sK4ynX"
      },
      "source": [
        "## Task-2\n",
        "\n",
        "How many features does the dataset have?"
      ]
    },
    {
      "cell_type": "code",
      "execution_count": null,
      "metadata": {
        "colab": {
          "base_uri": "https://localhost:8080/"
        },
        "id": "WQ75O4D141R0",
        "outputId": "04d260c7-6b47-4d4b-ac16-2dce5706f3e7"
      },
      "outputs": [
        {
          "name": "stdout",
          "output_type": "stream",
          "text": [
            "784\n"
          ]
        }
      ],
      "source": [
        "# Solution\n",
        "print(X.shape[1])"
      ]
    },
    {
      "cell_type": "markdown",
      "metadata": {
        "id": "BPUFxtI55G2h"
      },
      "source": [
        "## Task-3\n",
        "\n",
        "Each sample corresponds to an image of dimension $28 \\times 28$. Visualize one of these images using the `matplotlib` library. \n",
        "\n",
        "- We need to know how to reshape a feature vector. Refer to week-0 content for the same.\n",
        "- refer to the following [document](https://matplotlib.org/stable/tutorials/introductory/images.html#sphx-glr-tutorials-introductory-images-py) for plotting NumPy arrays as images using `matplotlib`."
      ]
    },
    {
      "cell_type": "code",
      "execution_count": null,
      "metadata": {
        "colab": {
          "base_uri": "https://localhost:8080/",
          "height": 265
        },
        "id": "ExvRNXPZ6246",
        "outputId": "3645da86-cd95-43a5-dc75-b21c7a4fb004"
      },
      "outputs": [
        {
          "data": {
            "image/png": "[encoded data removed]",
            "text/plain": [
              "<Figure size 432x288 with 1 Axes>"
            ]
          },
          "metadata": {
            "needs_background": "light"
          },
          "output_type": "display_data"
        }
      ],
      "source": [
        "# Solution\n",
        "import matplotlib.pyplot as plt\n",
        "img = X[0].reshape(28, 28)\n",
        "plt.imshow(img, cmap = 'gray');"
      ]
    },
    {
      "cell_type": "markdown",
      "metadata": {
        "id": "8e2xflo8FF8K"
      },
      "source": [
        "## Task-4\n",
        "\n",
        "Center the the dataset $\\mathbf{X}$ around its mean. Call this centered dataset $\\mathbf{X}^{\\prime}$.\n",
        "\n",
        "<u>Conversion</u>\n",
        "\n",
        "Enter the following quantity as your answer correct to two decimal places:\n",
        "\n",
        "$$\n",
        "\\cfrac{1}{n \\cdot d} \\sqrt{\\sum \\limits_{i = 1}^{n} \\sum \\limits_{j = 1}^{d} (X_{ij}^{\\prime})^2}\n",
        "$$"
      ]
    },
    {
      "cell_type": "code",
      "execution_count": null,
      "metadata": {
        "colab": {
          "base_uri": "https://localhost:8080/"
        },
        "id": "9uNDPtBjH5Df",
        "outputId": "b5bd1868-23f5-4558-cace-0f86d0737bbc"
      },
      "outputs": [
        {
          "name": "stdout",
          "output_type": "stream",
          "text": [
            "0.23242174456564685\n"
          ]
        }
      ],
      "source": [
        "# Solution\n",
        "def center(X):\n",
        "    return X - X.mean(axis = 0)\n",
        "\n",
        "n, d = X.shape\n",
        "X_prime = center(X)\n",
        "print(np.sqrt((X_prime ** 2).sum()) / (n * d))"
      ]
    },
    {
      "cell_type": "markdown",
      "metadata": {
        "id": "8UPKuD8uJCnE"
      },
      "source": [
        "## Task-5\n",
        "\n",
        "Compute the covariance matrix $\\mathbf{C}$ of the centered dataset.\n",
        "\n",
        "<u>Conversion</u>\n",
        "\n",
        "Enter the following quantity as your answer correct to two decimal places:\n",
        "\n",
        "$$\n",
        "\\cfrac{1}{d^2} \\sqrt{\\sum \\limits_{i = 1}^{d} \\sum \\limits_{j = 1}^{d} C_{ij}^2}\n",
        "$$"
      ]
    },
    {
      "cell_type": "code",
      "execution_count": null,
      "metadata": {
        "colab": {
          "base_uri": "https://localhost:8080/"
        },
        "id": "ZWT1bzBDlk2m",
        "outputId": "c446905f-b8d7-4e10-dee6-f11256811c05"
      },
      "outputs": [
        {
          "name": "stdout",
          "output_type": "stream",
          "text": [
            "1.3648061009232249\n"
          ]
        }
      ],
      "source": [
        "# Solution\n",
        "def covariance(X):\n",
        "    return X.T @ X / X.shape[0]\n",
        "\n",
        "C = covariance(X_prime)\n",
        "d = C.shape[0]\n",
        "print(np.sqrt((C ** 2).sum()) / d ** 2)"
      ]
    },
    {
      "cell_type": "markdown",
      "metadata": {
        "id": "FfJK8OiMr2mh"
      },
      "source": [
        "## Task-6\n",
        "\n",
        "Compute the first and second principal components of the dataset, $\\mathbf{w}_1$ and $\\mathbf{w}_2$.\n",
        "\n",
        "<u>Conversion</u>\n",
        "\n",
        "Compute:\n",
        "$$\n",
        "\\mathbf{w} = \\mathbf{w}_1 + \\mathbf{w}_2\n",
        "$$\n",
        "\n",
        "Enter the following quantity as your answer correct to two decimal places:\n",
        "\n",
        "$$\n",
        "\\left| \\sum \\limits_{i = 1}^{d} w_i \\right|\n",
        "$$"
      ]
    },
    {
      "cell_type": "code",
      "execution_count": null,
      "metadata": {
        "colab": {
          "base_uri": "https://localhost:8080/"
        },
        "id": "KgJ1FCa1tvZR",
        "outputId": "6dd9f157-dd70-4deb-b180-d388c5852b73"
      },
      "outputs": [
        {
          "name": "stdout",
          "output_type": "stream",
          "text": [
            "1.051624388059819\n"
          ]
        }
      ],
      "source": [
        "# Solution\n",
        "def compute_pc(C):\n",
        "    d = C.shape[0]\n",
        "    eigval, eigvec = np.linalg.eigh(C)\n",
        "    w_1, w_2 = eigvec[:, -1], eigvec[:, -2]\n",
        "    assert w_1.shape[0] == w_2.shape[0] == d\n",
        "    return w_1, w_2\n",
        "\n",
        "w_1, w_2 = compute_pc(C)\n",
        "w = w_1 + w_2\n",
        "print(abs(w.sum()))"
      ]
    },
    {
      "cell_type": "markdown",
      "metadata": {
        "id": "9CBt_pmj-5pl"
      },
      "source": [
        "## Task-7\n",
        "\n",
        "Visualize the first principal component as an image."
      ]
    },
    {
      "cell_type": "code",
      "execution_count": null,
      "metadata": {
        "colab": {
          "base_uri": "https://localhost:8080/",
          "height": 282
        },
        "id": "KXiJLyT7_N29",
        "outputId": "8f0403d3-9359-441f-d099-b0c35fb2224d"
      },
      "outputs": [
        {
          "data": {
            "text/plain": [
              "<matplotlib.image.AxesImage at 0x7fad569a08d0>"
            ]
          },
          "execution_count": 8,
          "metadata": {},
          "output_type": "execute_result"
        },
        {
          "data": {
            "image/png": "[encoded data removed]",
            "text/plain": [
              "<Figure size 432x288 with 1 Axes>"
            ]
          },
          "metadata": {
            "needs_background": "light"
          },
          "output_type": "display_data"
        }
      ],
      "source": [
        "# Solution\n",
        "w_1_image = w_1.reshape(28, 28)\n",
        "plt.imshow(w_1_image, cmap = 'gray')"
      ]
    },
    {
      "cell_type": "markdown",
      "metadata": {
        "id": "o37ie_mqxqhy"
      },
      "source": [
        "## Task-8\n",
        "\n",
        "Find the smallest value of $k$ for which the first $k$ principal components capture at least $95\\%$ of the variance in the data."
      ]
    },
    {
      "cell_type": "code",
      "execution_count": null,
      "metadata": {
        "colab": {
          "base_uri": "https://localhost:8080/"
        },
        "id": "_JiPpEwCyvQK",
        "outputId": "9b047188-cb82-4ab2-a104-ba2636358eca"
      },
      "outputs": [
        {
          "name": "stdout",
          "output_type": "stream",
          "text": [
            "53\n"
          ]
        }
      ],
      "source": [
        "# Solution\n",
        "def choose_k(C):\n",
        "    eigval, eigvec = np.linalg.eigh(C)\n",
        "    eigval = list(reversed(eigval))\n",
        "    tot = sum(eigval)\n",
        "    for k in range(len(eigval)):\n",
        "        if sum(eigval[: k + 1]) / tot >= 0.95:\n",
        "            return k + 1\n",
        "    return len(eigval)\n",
        "\n",
        "print(choose_k(C))"
      ]
    },
    {
      "cell_type": "markdown",
      "metadata": {
        "id": "5raTmu_s0Gpq"
      },
      "source": [
        "## Task-9\n",
        "\n",
        "Given a `test_image`, visualize the proxies  by reconstructing it using the top $k$ principal components. Consider four values of $k$; values of $k$ for which the top-$k$ principal components explain:\n",
        "\n",
        "- 20% of the variance\n",
        "- 50% of the variance\n",
        "- 80% of the variance\n",
        "- 95% of the variance\n",
        "\n"
      ]
    },
    {
      "cell_type": "code",
      "execution_count": null,
      "metadata": {
        "colab": {
          "base_uri": "https://localhost:8080/",
          "height": 126
        },
        "id": "yrjf1Er24vLo",
        "outputId": "bad728e8-2d91-49e9-cfa7-44d6acecdfa2"
      },
      "outputs": [
        {
          "data": {
            "text/plain": [
              "<matplotlib.image.AxesImage at 0x7fad5685ff50>"
            ]
          },
          "execution_count": 10,
          "metadata": {},
          "output_type": "execute_result"
        },
        {
          "data": {
            "image/png": "[encoded data removed]",
            "text/plain": [
              "<Figure size 432x288 with 5 Axes>"
            ]
          },
          "metadata": {
            "needs_background": "light"
          },
          "output_type": "display_data"
        }
      ],
      "source": [
        "# Solution\n",
        "def reconstruct(C, test_image, thresh):\n",
        "    eigval, eigvec = np.linalg.eigh(C)\n",
        "    eigval = list(reversed(eigval))\n",
        "    tot = sum(eigval)\n",
        "    K = len(eigval)\n",
        "    for k in range(len(eigval)):\n",
        "        if sum(eigval[: k + 1]) / tot >= thresh:\n",
        "            K = k + 1\n",
        "            break\n",
        "    W = eigvec[:, -K: ]\n",
        "    coeff = test_image @ W\n",
        "    return W @ coeff\n",
        "\n",
        "# Original mean subtracted image\n",
        "test_image = np.float64(test_image) - X.mean(axis = 0)\n",
        "plt.subplot(1, 5, 1)\n",
        "plt.imshow(test_image.reshape(28, 28), cmap = 'gray')\n",
        "# 0.20\n",
        "recon_image = reconstruct(C, test_image, 0.20)\n",
        "plt.subplot(1, 5, 2)\n",
        "plt.imshow(recon_image.reshape(28, 28), cmap = 'gray')\n",
        "# 0.5\n",
        "recon_image = reconstruct(C, test_image, 0.50)\n",
        "plt.subplot(1, 5, 3)\n",
        "plt.imshow(recon_image.reshape(28, 28), cmap = 'gray')\n",
        "# 0.80\n",
        "recon_image = reconstruct(C, test_image, 0.80)\n",
        "plt.subplot(1, 5, 4)\n",
        "plt.imshow(recon_image.reshape(28, 28), cmap = 'gray')\n",
        "# 0.95\n",
        "plt.subplot(1, 5, 5)\n",
        "recon_image = reconstruct(C, test_image, 0.95)\n",
        "plt.imshow(recon_image.reshape(28, 28), cmap = 'gray')"
      ]
    }
  ],
  "metadata": {
    "colab": {
      "collapsed_sections": [],
      "provenance": [],
      "include_colab_link": true
    },
    "kernelspec": {
      "display_name": "Python 3",
      "language": "python",
      "name": "python3"
    },
    "language_info": {
      "codemirror_mode": {
        "name": "ipython",
        "version": 3
      },
      "file_extension": ".py",
      "mimetype": "text/x-python",
      "name": "python",
      "nbconvert_exporter": "python",
      "pygments_lexer": "ipython3",
      "version": "3.8.5"
    }
  },
  "nbformat": 4,
  "nbformat_minor": 0
}